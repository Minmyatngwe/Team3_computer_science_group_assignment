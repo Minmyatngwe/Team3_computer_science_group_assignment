{
 "cells": [
  {
   "cell_type": "markdown",
   "id": "ba33fe17",
   "metadata": {},
   "source": [
    "# Title-Tic Tac Toe\n",
    "## Member_names\n",
    "### Min Myat Ngwe\n",
    "### Juyin Tang\n",
    "### Duc Minh Khang Nguyen\n",
    "### Nguyen Ngoc  Tu Anh"
   ]
  },
  {
   "cell_type": "code",
   "execution_count": 26,
   "id": "37f73805",
   "metadata": {},
   "outputs": [],
   "source": [
    "import random \n",
    "board = [\" \" for i in range(9)] #making board"
   ]
  },
  {
   "cell_type": "code",
   "execution_count": 27,
   "id": "14c822e0",
   "metadata": {},
   "outputs": [],
   "source": [
    "def making_board():\n",
    "    print(board[0],  \" | \" ,board[1],  \" | \" ,board[2])\n",
    "    print(\"---------------\")\n",
    "    print(board[3],  \" | \" ,board[4],  \" | \" ,board[5])\n",
    "    print(\"---------------\")\n",
    "    print(board[6],  \" | \" ,board[7],  \" | \" ,board[8])\n",
    "    "
   ]
  },
  {
   "cell_type": "code",
   "execution_count": 28,
   "id": "2dcfa7c8",
   "metadata": {},
   "outputs": [],
   "source": [
    "def checking_winner(user_input): #checking who is winner\n",
    "    if user_input == board[0] and user_input == board[1] and user_input == board[2]:\n",
    "        return True\n",
    "    if user_input == board[0] and user_input == board[3] and user_input == board[6]:\n",
    "        return True\n",
    "    if user_input == board[1] and user_input == board[4] and user_input == board[7]:\n",
    "        return True\n",
    "    if user_input == board[2] and user_input == board[5] and user_input == board[8]:\n",
    "        return True\n",
    "    if user_input == board[3] and user_input == board[4] and user_input == board[5]:\n",
    "        return True\n",
    "    if user_input == board[6] and user_input == board[7] and user_input == board[8]:\n",
    "        return True\n",
    "    if user_input == board[0] and user_input == board[4] and user_input == board[8]:\n",
    "        return True\n",
    "    if user_input == board[2] and user_input == board[4] and user_input == board[5]:\n",
    "        return True\n",
    "    "
   ]
  },
  {
   "cell_type": "code",
   "execution_count": 29,
   "id": "cc1c8551",
   "metadata": {},
   "outputs": [],
   "source": [
    "def restart_quit(user_input): # restart or quit\n",
    "    if user_input == \"r\":\n",
    "        return True\n",
    "    elif user_input == \"q\":\n",
    "        return False\n"
   ]
  },
  {
   "cell_type": "code",
   "execution_count": 30,
   "id": "1b10f9aa",
   "metadata": {
    "scrolled": true
   },
   "outputs": [
    {
     "name": "stdout",
     "output_type": "stream",
     "text": [
      "Please choose a number between 1 and 9: it is X's turn1\n",
      "X  |     |   \n",
      "---------------\n",
      "   |     |   \n",
      "---------------\n",
      "   |     |   \n",
      "Please choose a number between 1 and 9: it is O's turn2\n",
      "X  |  O  |   \n",
      "---------------\n",
      "   |     |   \n",
      "---------------\n",
      "   |     |   \n",
      "Please choose a number between 1 and 9: it is X's turn4\n",
      "X  |  O  |   \n",
      "---------------\n",
      "X  |     |   \n",
      "---------------\n",
      "   |     |   \n",
      "Please choose a number between 1 and 9: it is O's turn5\n",
      "X  |  O  |   \n",
      "---------------\n",
      "X  |  O  |   \n",
      "---------------\n",
      "   |     |   \n",
      "Please choose a number between 1 and 9: it is X's turn9\n",
      "X  |  O  |   \n",
      "---------------\n",
      "X  |  O  |   \n",
      "---------------\n",
      "   |     |  X\n",
      "Please choose a number between 1 and 9: it is O's turn7\n",
      "X  |  O  |   \n",
      "---------------\n",
      "X  |  O  |   \n",
      "---------------\n",
      "O  |     |  X\n",
      "Please choose a number between 1 and 9: it is X's turn3\n",
      "X  |  O  |  X\n",
      "---------------\n",
      "X  |  O  |   \n",
      "---------------\n",
      "O  |     |  X\n",
      "Please choose a number between 1 and 9: it is O's turn8\n",
      "X  |  O  |  X\n",
      "---------------\n",
      "X  |  O  |   \n",
      "---------------\n",
      "O  |  O  |  X\n",
      "Player O wins\n",
      "If you want to play again, please type 'r' or 'q' to quit: 1\n",
      "Thanks for playing\n"
     ]
    }
   ],
   "source": [
    "\n",
    "round = 1 # to know the round \n",
    "current_player =[\"X\",\"O\"]\n",
    "current_player=random.choice(current_player)\n",
    "while True:\n",
    "    user_input = input(f\"Please choose a number between 1 and 9: it is {current_player}'s turn\")\n",
    "\n",
    "    if not user_input.isnumeric(): #only number is accepted\n",
    "        print(\"Input must be a number\")\n",
    "        continue\n",
    "\n",
    "    user_input = int(user_input)\n",
    "\n",
    "    if user_input < 1 or user_input > 9:  #the number must be between 1 and 9\n",
    "        print(\"The number must be between 1 and 9\")\n",
    "        continue\n",
    "\n",
    "    user_input -= 1   #subtract 1 to get real index\n",
    "    if board[user_input] == \" \": # checking if there any \" \"\n",
    "        board[user_input] = current_player\n",
    "        making_board()\n",
    "        if checking_winner(current_player):\n",
    "            print(f\"Player {current_player} wins\")  #printing th winner\n",
    "\n",
    "            keep_play_or_not = input(\"If you want to play again, please type 'r' or 'q' to quit: \").lower()\n",
    "            if restart_quit(keep_play_or_not):\n",
    "                round += 1\n",
    "                print(\"Round\", round)\n",
    "                board = [\" \" for i in range(9)] #restarting the board\n",
    "                current_player = \"X\"\n",
    "                continue\n",
    "            else:\n",
    "                print(\"Thanks for playing\")#quitting the game\n",
    "                break\n",
    "\n",
    "        elif ' ' not in board:#if there is no \" \" to insert it is considered draw\n",
    "            print(\"It's a draw\")\n",
    "\n",
    "            keep_play_or_not = input(\"If you want to play again, please type 'r' or 'q' to quit: \").lower()\n",
    "            if restart_quit(keep_play_or_not):\n",
    "                round += 1\n",
    "                print(\"Round\", round)\n",
    "                board = [\" \" for i in range(9)]\n",
    "                current_player = \"X\"\n",
    "                continue\n",
    "            else:\n",
    "                print(\"Thanks for playing\")\n",
    "                break\n",
    "    else:\n",
    "        print(\"The index is already occupied. Please choose another.\")\n",
    "        continue\n",
    "\n",
    "    if current_player == \"X\":# changing the player\n",
    "        current_player = \"O\"\n",
    "    else:\n",
    "        current_player = \"X\"\n",
    "        \n",
    "    \n",
    "    "
   ]
  },
  {
   "cell_type": "markdown",
   "id": "73073ad4",
   "metadata": {},
   "source": [
    "##### "
   ]
  },
  {
   "cell_type": "markdown",
   "id": "916e621f",
   "metadata": {},
   "source": [
    "# conclusion\n",
    "The goal of this qroject is to remember the thing that we were used to playing when we were kids.And. it is interesting to make with python.\n",
    "## finalise\n",
    "- This programm is designned to only accept the numbers which are between 1 and 9.If words or the numbers which are greater than 9 or small than 1 is inserted.The programm will print  \"The number must be between 1 and 9\" and continue the loop until the user inputs the right thing.\n",
    "- This is programmed to ask whether the user wants to play again or not.After each match,the user will be asked if he wants to play another round or not.If he wants to play,he  just needs to input r and q for quit.\n",
    "- To have a fair match the first move is randomly choosen by using random libries.\n",
    "\n"
   ]
  },
  {
   "cell_type": "code",
   "execution_count": null,
   "id": "eb1f13ff",
   "metadata": {},
   "outputs": [],
   "source": []
  },
  {
   "cell_type": "code",
   "execution_count": null,
   "id": "6ffe2598",
   "metadata": {},
   "outputs": [],
   "source": []
  },
  {
   "cell_type": "code",
   "execution_count": null,
   "id": "b255195f",
   "metadata": {},
   "outputs": [],
   "source": []
  },
  {
   "cell_type": "code",
   "execution_count": null,
   "id": "1b04cbf3",
   "metadata": {},
   "outputs": [],
   "source": []
  },
  {
   "cell_type": "code",
   "execution_count": null,
   "id": "e87ac8a1",
   "metadata": {},
   "outputs": [],
   "source": []
  },
  {
   "cell_type": "code",
   "execution_count": null,
   "id": "be487d97",
   "metadata": {},
   "outputs": [],
   "source": []
  }
 ],
 "metadata": {
  "kernelspec": {
   "display_name": "Python 3 (ipykernel)",
   "language": "python",
   "name": "python3"
  },
  "language_info": {
   "codemirror_mode": {
    "name": "ipython",
    "version": 3
   },
   "file_extension": ".py",
   "mimetype": "text/x-python",
   "name": "python",
   "nbconvert_exporter": "python",
   "pygments_lexer": "ipython3",
   "version": "3.11.4"
  }
 },
 "nbformat": 4,
 "nbformat_minor": 5
}
